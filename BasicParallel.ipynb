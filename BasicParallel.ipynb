{
 "cells": [
  {
   "cell_type": "code",
   "execution_count": 1,
   "metadata": {},
   "outputs": [],
   "source": [
    "addprocs(5);"
   ]
  },
  {
   "cell_type": "markdown",
   "metadata": {},
   "source": [
    "## Fonctions\n",
    "\n",
    "* __remotecall(f, id::Integer, args...; kwargs...)__ : Appelez une fonction de manière asynchrone sur les arguments donnés sur le processus spécifié. Renvoie un Futur. Les arguments suivant, le cas échéant, sont transmis à la fonction.\n",
    "* __fetch(c::Channel)__ : Attend et obtient le premier article disponible du Channel. Ne supprime pas l'élément.\n",
    "* __remotecall_fetch(f, id::Integer, args...; kwargs...)__ : Performe un remotecall() et un fetch() immédiatement.\n",
    "* __pmap(f, c)__ : Transforme une collection c en appliquant une fonction f sur chaque element en utilisant les processus disponibles."
   ]
  },
  {
   "cell_type": "code",
   "execution_count": 2,
   "metadata": {},
   "outputs": [
    {
     "data": {
      "text/plain": [
       "2×2 Array{Float64,2}:\n",
       " 0.559155  0.419005\n",
       " 0.536324  0.208399"
      ]
     },
     "execution_count": 2,
     "metadata": {},
     "output_type": "execute_result"
    }
   ],
   "source": [
    "r = remotecall(rand, 2, 2, 2)\n",
    "r_f = fetch(r)"
   ]
  },
  {
   "cell_type": "code",
   "execution_count": 3,
   "metadata": {},
   "outputs": [
    {
     "data": {
      "text/plain": [
       "0.5591548830538178"
      ]
     },
     "execution_count": 3,
     "metadata": {},
     "output_type": "execute_result"
    }
   ],
   "source": [
    "remotecall_fetch(getindex, 2, r_f, 1, 1)"
   ]
  },
  {
   "cell_type": "code",
   "execution_count": 4,
   "metadata": {},
   "outputs": [
    {
     "data": {
      "text/plain": [
       "10-element Array{Float64,1}:\n",
       " 0.500091\n",
       " 0.500554\n",
       " 0.500081\n",
       " 0.500089\n",
       " 0.500078\n",
       " 0.499715\n",
       " 0.499197\n",
       " 0.500212\n",
       " 0.499945\n",
       " 0.499723"
      ]
     },
     "execution_count": 4,
     "metadata": {},
     "output_type": "execute_result"
    }
   ],
   "source": [
    "M = Matrix{Float64}[rand(1000,1000) for i = 1:10];\n",
    "pmap(mean, M)"
   ]
  },
  {
   "cell_type": "markdown",
   "metadata": {},
   "source": [
    "## Macros\n",
    "* __@spawnat__ : Accepte deux arguments, un processus p et une expression. Une Closure est créé autour de l'expression et est exécuté async sur le processus p. Retourne un Future vers le résultat.\n",
    "* __@everywhere__ : Exécute une expression dans tous les processus.\n",
    "* __@parallel__ : Exécute un for loop sur différent processus en distribuant chaque loop. peut etre accompagné d'une fonction de réduction."
   ]
  },
  {
   "cell_type": "code",
   "execution_count": 5,
   "metadata": {},
   "outputs": [
    {
     "data": {
      "text/plain": [
       "2×2 Array{Float64,2}:\n",
       " 1.11831  0.838011\n",
       " 1.07265  0.416799"
      ]
     },
     "execution_count": 5,
     "metadata": {},
     "output_type": "execute_result"
    }
   ],
   "source": [
    "s = @spawnat 2 2 .* r_f\n",
    "fetch(s)"
   ]
  },
  {
   "cell_type": "code",
   "execution_count": 6,
   "metadata": {},
   "outputs": [
    {
     "data": {
      "text/plain": [
       "3×3 Array{Int64,2}:\n",
       " 1  2  3\n",
       " 1  2  3\n",
       " 1  2  3"
      ]
     },
     "execution_count": 6,
     "metadata": {},
     "output_type": "execute_result"
    }
   ],
   "source": [
    "@everywhere function f(x)\n",
    "    x^2\n",
    "end\n",
    "\n",
    "@everywhere Z = [1 2 3; 1 2 3; 1 2 3]\n",
    "Z"
   ]
  },
  {
   "cell_type": "code",
   "execution_count": 7,
   "metadata": {},
   "outputs": [
    {
     "data": {
      "text/plain": [
       "100005330"
      ]
     },
     "execution_count": 7,
     "metadata": {},
     "output_type": "execute_result"
    }
   ],
   "source": [
    "nheads = @parallel (+) for i = 1:200000000\n",
    "    Int(rand(Bool))\n",
    "end"
   ]
  },
  {
   "cell_type": "code",
   "execution_count": 8,
   "metadata": {},
   "outputs": [
    {
     "data": {
      "text/plain": [
       "10-element Array{Float64,1}:\n",
       " 0.0\n",
       " 0.0\n",
       " 0.0\n",
       " 0.0\n",
       " 0.0\n",
       " 0.0\n",
       " 0.0\n",
       " 0.0\n",
       " 0.0\n",
       " 0.0"
      ]
     },
     "execution_count": 8,
     "metadata": {},
     "output_type": "execute_result"
    }
   ],
   "source": [
    "a = zeros(10)\n",
    "@parallel for i = 1:10\n",
    "    a[i] = i\n",
    "end\n",
    "\n",
    "a"
   ]
  },
  {
   "cell_type": "code",
   "execution_count": 9,
   "metadata": {},
   "outputs": [
    {
     "data": {
      "text/plain": [
       "10-element SharedArray{Float64,1}:\n",
       "  1.0\n",
       "  2.0\n",
       "  3.0\n",
       "  4.0\n",
       "  5.0\n",
       "  6.0\n",
       "  7.0\n",
       "  8.0\n",
       "  9.0\n",
       " 10.0"
      ]
     },
     "execution_count": 9,
     "metadata": {},
     "output_type": "execute_result"
    }
   ],
   "source": [
    "a = SharedArray{Float64}(10)\n",
    "@parallel for i = 1:10\n",
    "    a[i] = i\n",
    "end\n",
    "\n",
    "a"
   ]
  },
  {
   "cell_type": "code",
   "execution_count": 10,
   "metadata": {},
   "outputs": [
    {
     "data": {
      "text/plain": [
       "11.616284270256784"
      ]
     },
     "execution_count": 10,
     "metadata": {},
     "output_type": "execute_result"
    }
   ],
   "source": [
    "# read-only\n",
    "a = randn(1000)\n",
    "@parallel (+) for i = 1:10\n",
    "    f(a[rand(1:end)])\n",
    "end"
   ]
  },
  {
   "cell_type": "markdown",
   "metadata": {},
   "source": [
    "# Communication\n",
    "* __Channel{T}(sz)__ : Construit un Channel avec un tampon interne qui permet de contenir un nombre sz d'items de type T. Insérer avec put! et retirer avec take!. Si l'un ou l'autre est bloqué, il attend."
   ]
  },
  {
   "cell_type": "code",
   "execution_count": 11,
   "metadata": {},
   "outputs": [
    {
     "name": "stdout",
     "output_type": "stream",
     "text": [
      "3 terminé en 0.22 secondes\n",
      "2 terminé en 0.24 secondes\n",
      "1 terminé en 0.44 secondes\n",
      "4 terminé en 0.56 secondes\n",
      "6 terminé en 0.33 secondes\n",
      "9 terminé en 0.07 secondes\n",
      "8 terminé en 0.32 secondes\n",
      "5 terminé en 0.76 secondes\n",
      "7 terminé en 0.62 secondes\n",
      "10 terminé en 0.6 secondes\n",
      "11 terminé en 0.66 secondes\n",
      "12 terminé en 0.81 secondes\n"
     ]
    }
   ],
   "source": [
    "jobs = Channel{Int}(32);\n",
    "results = Channel{Tuple}(32);\n",
    "\n",
    "function do_work()\n",
    "   for job_id in jobs\n",
    "       exec_time = rand()\n",
    "       sleep(exec_time)               \n",
    "       put!(results, (job_id, exec_time))\n",
    "   end\n",
    "end;\n",
    "\n",
    "function make_jobs(n)\n",
    "   for i in 1:n\n",
    "       put!(jobs, i)\n",
    "   end\n",
    "end;\n",
    "\n",
    "n = 12;\n",
    "@schedule make_jobs(n);\n",
    "\n",
    "for i in 1:4 \n",
    "   @schedule do_work()\n",
    "end\n",
    "\n",
    "@elapsed while n > 0\n",
    "   job_id, exec_time = take!(results)\n",
    "   println(\"$job_id terminé en $(round(exec_time,2)) secondes\")\n",
    "   n = n - 1\n",
    "end;"
   ]
  }
 ],
 "metadata": {
  "kernelspec": {
   "display_name": "Julia 0.6.2",
   "language": "julia",
   "name": "julia-0.6"
  },
  "language_info": {
   "file_extension": ".jl",
   "mimetype": "application/julia",
   "name": "julia",
   "version": "0.6.2"
  }
 },
 "nbformat": 4,
 "nbformat_minor": 2
}
