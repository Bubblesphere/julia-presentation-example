{
 "cells": [
  {
   "cell_type": "code",
   "execution_count": 17,
   "metadata": {},
   "outputs": [
    {
     "data": {
      "text/plain": [
       "compute_pi (generic function with 1 method)"
      ]
     },
     "execution_count": 17,
     "metadata": {},
     "output_type": "execute_result"
    }
   ],
   "source": [
    "function compute_pi(N::Int)\n",
    "    # Aire d'un cercle: PI*r^2\n",
    "    # Aire d'un carré: 4*r^2\n",
    "    # Relation: PI / 4 = Ratio\n",
    "    # et donc: Ratio*4 = PI\n",
    "    # Ratio: Nombre dans le cercle / Nombre dans le carré\n",
    "    in_circle = 0\n",
    "    for i = 1:N\n",
    "        # x et y entre -1 et 1\n",
    "        x = rand() * 2 - 1\n",
    "        y = rand() * 2 - 1\n",
    "\n",
    "        # distance du point x,y du centre\n",
    "        # x^2+y^2 = distance^2\n",
    "        d2 = x*x + y*y  \n",
    "        if d2 < 1.0\n",
    "            in_circle += 1\n",
    "        end\n",
    "    end\n",
    "\n",
    "    return in_circle / N * 4.0    \n",
    "end"
   ]
  },
  {
   "cell_type": "code",
   "execution_count": 18,
   "metadata": {},
   "outputs": [],
   "source": [
    "@everywhere function compute_pi_everywhere(N::Int)\n",
    "    in_circle = 0\n",
    "    for i = 1:N\n",
    "        x = rand() * 2 - 1\n",
    "        y = rand() * 2 - 1\n",
    "\n",
    "        d2 = x*x + y*y\n",
    "        if d2 < 1.0\n",
    "            in_circle += 1\n",
    "        end\n",
    "    end\n",
    "\n",
    "    return in_circle / N * 4.0    \n",
    "end"
   ]
  },
  {
   "cell_type": "code",
   "execution_count": 19,
   "metadata": {},
   "outputs": [
    {
     "name": "stdout",
     "output_type": "stream",
     "text": [
      "  1.857432 seconds (3.10 k allocations: 162.294 KiB)\n",
      "  0.035748 seconds (3.80 k allocations: 197.652 KiB)\n"
     ]
    },
    {
     "data": {
      "text/plain": [
       "3.1414842"
      ]
     },
     "execution_count": 19,
     "metadata": {},
     "output_type": "execute_result"
    }
   ],
   "source": [
    "@time compute_pi(100000000)\n",
    "\n",
    "@time job = @spawn compute_pi_everywhere(100000000)\n",
    "fetch(job)"
   ]
  },
  {
   "cell_type": "code",
   "execution_count": null,
   "metadata": {},
   "outputs": [],
   "source": []
  }
 ],
 "metadata": {
  "kernelspec": {
   "display_name": "Julia 0.6.0",
   "language": "julia",
   "name": "julia-0.6"
  },
  "language_info": {
   "file_extension": ".jl",
   "mimetype": "application/julia",
   "name": "julia",
   "version": "0.6.0"
  }
 },
 "nbformat": 4,
 "nbformat_minor": 2
}
