{
 "cells": [
  {
   "cell_type": "code",
   "execution_count": 33,
   "metadata": {},
   "outputs": [],
   "source": [
    "if nprocs() < 2\n",
    "    addprocs(2);\n",
    "end;\n",
    "\n",
    "@everywhere function select_from_database()\n",
    "    sleep(2)\n",
    "    500\n",
    "end\n",
    "\n",
    "@everywhere function some_long_process()\n",
    "    sleep(2)\n",
    "    return 300\n",
    "end\n",
    "\n",
    "function some_other_long_process(n, m)\n",
    "    sleep(2)\n",
    "    return n * m\n",
    "end;\n",
    "\n",
    "function main()\n",
    "    d = select_from_database()\n",
    "    j = some_long_process()\n",
    "    return some_other_long_process(d, j)\n",
    "end;\n",
    "\n",
    "function parallel_main()\n",
    "    future_d = @spawn select_from_database()\n",
    "    future_j = @spawn some_long_process()\n",
    "    d = fetch(future_d)\n",
    "    j = fetch(future_j)\n",
    "    return some_other_long_process(d, j)\n",
    "end;"
   ]
  },
  {
   "cell_type": "code",
   "execution_count": 36,
   "metadata": {},
   "outputs": [
    {
     "data": {
      "text/plain": [
       "150000"
      ]
     },
     "metadata": {},
     "output_type": "display_data"
    },
    {
     "name": "stdout",
     "output_type": "stream",
     "text": [
      "  6.067638 seconds (9.95 k allocations: 533.272 KiB)\n"
     ]
    },
    {
     "data": {
      "text/plain": [
       "150000"
      ]
     },
     "metadata": {},
     "output_type": "display_data"
    },
    {
     "name": "stdout",
     "output_type": "stream",
     "text": [
      "  4.008611 seconds (1.86 k allocations: 103.953 KiB)\n"
     ]
    }
   ],
   "source": [
    "@time display(main())\n",
    "@time display(parallel_main())"
   ]
  }
 ],
 "metadata": {
  "kernelspec": {
   "display_name": "Julia 0.6.2",
   "language": "julia",
   "name": "julia-0.6"
  },
  "language_info": {
   "file_extension": ".jl",
   "mimetype": "application/julia",
   "name": "julia",
   "version": "0.6.2"
  }
 },
 "nbformat": 4,
 "nbformat_minor": 2
}
